{
    "cells": [
        {
            "cell_type": "markdown",
            "source": [
                "## Basic Imports"
            ],
            "metadata": {}
        },
        {
            "cell_type": "code",
            "execution_count": 3,
            "source": [
                "import matplotlib.pyplot as plt\r\n",
                "import numpy as np\r\n",
                "import tensorflow as tf\r\n",
                "import pandas as pd\r\n",
                "import keras\r\n",
                "import sys\r\n",
                "import cv2 as cv\r\n",
                "%matplotlib inline"
            ],
            "outputs": [],
            "metadata": {}
        },
        {
            "cell_type": "code",
            "execution_count": 4,
            "source": [
                "print(cv.__version__)"
            ],
            "outputs": [
                {
                    "output_type": "execute_result",
                    "data": {
                        "text/plain": [
                            "['c:\\\\Users\\\\ash01\\\\Mask_Detector\\\\src',\n",
                            " 'c:\\\\Users\\\\ash01\\\\.vscode\\\\extensions\\\\ms-toolsai.jupyter-2021.8.1195043623\\\\pythonFiles',\n",
                            " 'c:\\\\Users\\\\ash01\\\\.vscode\\\\extensions\\\\ms-toolsai.jupyter-2021.8.1195043623\\\\pythonFiles\\\\lib\\\\python',\n",
                            " 'C:\\\\Python39\\\\python39.zip',\n",
                            " 'C:\\\\Python39\\\\DLLs',\n",
                            " 'C:\\\\Python39\\\\lib',\n",
                            " 'C:\\\\Python39',\n",
                            " '',\n",
                            " 'C:\\\\Users\\\\ash01\\\\AppData\\\\Roaming\\\\Python\\\\Python39\\\\site-packages',\n",
                            " 'C:\\\\Python39\\\\lib\\\\site-packages',\n",
                            " 'C:\\\\Python39\\\\lib\\\\site-packages\\\\win32',\n",
                            " 'C:\\\\Python39\\\\lib\\\\site-packages\\\\win32\\\\lib',\n",
                            " 'C:\\\\Python39\\\\lib\\\\site-packages\\\\Pythonwin',\n",
                            " 'C:\\\\Python39\\\\lib\\\\site-packages\\\\IPython\\\\extensions',\n",
                            " 'C:\\\\Users\\\\ash01\\\\.ipython']"
                        ]
                    },
                    "metadata": {},
                    "execution_count": 4
                }
            ],
            "metadata": {}
        }
    ],
    "metadata": {
        "orig_nbformat": 4,
        "language_info": {
            "name": "python",
            "version": "3.9.5",
            "mimetype": "text/x-python",
            "codemirror_mode": {
                "name": "ipython",
                "version": 3
            },
            "pygments_lexer": "ipython3",
            "nbconvert_exporter": "python",
            "file_extension": ".py"
        },
        "kernelspec": {
            "name": "python3",
            "display_name": "Python 3.9.5 64-bit"
        },
        "interpreter": {
            "hash": "63fd5069d213b44bf678585dea6b12cceca9941eaf7f819626cde1f2670de90d"
        }
    },
    "nbformat": 4,
    "nbformat_minor": 2
}